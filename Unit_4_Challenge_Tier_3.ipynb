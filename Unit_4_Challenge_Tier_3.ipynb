{
  "nbformat": 4,
  "nbformat_minor": 0,
  "metadata": {
    "kernelspec": {
      "display_name": "Python 3",
      "language": "python",
      "name": "python3"
    },
    "language_info": {
      "codemirror_mode": {
        "name": "ipython",
        "version": 3
      },
      "file_extension": ".py",
      "mimetype": "text/x-python",
      "name": "python",
      "nbconvert_exporter": "python",
      "pygments_lexer": "ipython3",
      "version": "3.7.3"
    },
    "colab": {
      "provenance": []
    }
  },
  "cells": [
    {
      "cell_type": "markdown",
      "metadata": {
        "id": "Tia3MP1SJpgj"
      },
      "source": [
        "# Springboard Data Science Career Track Unit 4 Challenge - Tier 3 Complete\n",
        "\n",
        "## Objectives\n",
        "Hey! Great job getting through those challenging DataCamp courses. You're learning a lot in a short span of time. \n",
        "\n",
        "In this notebook, you're going to apply the skills you've been learning, bridging the gap between the controlled environment of DataCamp and the *slightly* messier work that data scientists do with actual datasets!\n",
        "\n",
        "Here’s the mystery we’re going to solve: ***which boroughs of London have seen the greatest increase in housing prices, on average, over the last two decades?***\n",
        "\n",
        "\n",
        "A borough is just a fancy word for district. You may be familiar with the five boroughs of New York… well, there are 32 boroughs within Greater London [(here's some info for the curious)](https://en.wikipedia.org/wiki/London_boroughs). Some of them are more desirable areas to live in, and the data will reflect that with a greater rise in housing prices.\n",
        "\n",
        "***This is the Tier 3 notebook, which means it's not filled in at all: we'll just give you the skeleton of a project, the brief and the data. It's up to you to play around with it and see what you can find out! Good luck! If you struggle, feel free to look at easier tiers for help; but try to dip in and out of them, as the more independent work you do, the better it is for your learning!***\n",
        "\n",
        "This challenge will make use of only what you learned in the following DataCamp courses: \n",
        "- Prework courses (Introduction to Python for Data Science, Intermediate Python for Data Science)\n",
        "- Data Types for Data Science\n",
        "- Python Data Science Toolbox (Part One) \n",
        "- pandas Foundations\n",
        "- Manipulating DataFrames with pandas\n",
        "- Merging DataFrames with pandas\n",
        "\n",
        "Of the tools, techniques and concepts in the above DataCamp courses, this challenge should require the application of the following: \n",
        "- **pandas**\n",
        "    - **data ingestion and inspection** (pandas Foundations, Module One) \n",
        "    - **exploratory data analysis** (pandas Foundations, Module Two)\n",
        "    - **tidying and cleaning** (Manipulating DataFrames with pandas, Module Three) \n",
        "    - **transforming DataFrames** (Manipulating DataFrames with pandas, Module One)\n",
        "    - **subsetting DataFrames with lists** (Manipulating DataFrames with pandas, Module One) \n",
        "    - **filtering DataFrames** (Manipulating DataFrames with pandas, Module One) \n",
        "    - **grouping data** (Manipulating DataFrames with pandas, Module Four) \n",
        "    - **melting data** (Manipulating DataFrames with pandas, Module Three) \n",
        "    - **advanced indexing** (Manipulating DataFrames with pandas, Module Four) \n",
        "- **matplotlib** (Intermediate Python for Data Science, Module One)\n",
        "- **fundamental data types** (Data Types for Data Science, Module One) \n",
        "- **dictionaries** (Intermediate Python for Data Science, Module Two)\n",
        "- **handling dates and times** (Data Types for Data Science, Module Four)\n",
        "- **function definition** (Python Data Science Toolbox - Part One, Module One)\n",
        "- **default arguments, variable length, and scope** (Python Data Science Toolbox - Part One, Module Two) \n",
        "- **lambda functions and error handling** (Python Data Science Toolbox - Part One, Module Four) "
      ]
    },
    {
      "cell_type": "markdown",
      "metadata": {
        "id": "Ipgd2nV8Jpgl"
      },
      "source": [
        "## The Data Science Pipeline\n",
        "\n",
        "This is Tier Three, so we'll get you started. But after that, it's all in your hands! When you feel done with your investigations, look back over what you've accomplished, and prepare a quick presentation of your findings for the next mentor meeting. \n",
        "\n",
        "Data Science is magical. In this case study, you'll get to apply some complex machine learning algorithms. But as  [David Spiegelhalter](https://www.youtube.com/watch?v=oUs1uvsz0Ok) reminds us, there is no substitute for simply **taking a really, really good look at the data.** Sometimes, this is all we need to answer our question.\n",
        "\n",
        "Data Science projects generally adhere to the four stages of Data Science Pipeline:\n",
        "1. Sourcing and loading \n",
        "2. Cleaning, transforming, and visualizing \n",
        "3. Modeling \n",
        "4. Evaluating and concluding \n"
      ]
    },
    {
      "cell_type": "markdown",
      "metadata": {
        "id": "zswDqbefJpgm"
      },
      "source": [
        "### 1. Sourcing and Loading \n",
        "\n",
        "Any Data Science project kicks off by importing  ***pandas***. The documentation of this wonderful library can be found [here](https://pandas.pydata.org/). As you've seen, pandas is conveniently connected to the [Numpy](http://www.numpy.org/) and [Matplotlib](https://matplotlib.org/) libraries. \n",
        "\n",
        "***Hint:*** This part of the data science pipeline will test those skills you acquired in the pandas Foundations course, Module One. "
      ]
    },
    {
      "cell_type": "markdown",
      "metadata": {
        "id": "aEau5nEvJpgm"
      },
      "source": [
        "#### 1.1. Importing Libraries"
      ]
    },
    {
      "cell_type": "code",
      "metadata": {
        "id": "7Bt_Q_oPJpgn"
      },
      "source": [
        "# Let's import the pandas, numpy libraries as pd, and np respectively. \n",
        "import pandas as pd \n",
        "import numpy as np\n",
        "\n",
        "# Load the pyplot collection of functions from matplotlib, as plt \n",
        "import matplotlib as plt"
      ],
      "execution_count": 4,
      "outputs": []
    },
    {
      "cell_type": "markdown",
      "metadata": {
        "id": "koUrawxsJpgq"
      },
      "source": [
        "#### 1.2.  Loading the data\n",
        "Your data comes from the [London Datastore](https://data.london.gov.uk/): a free, open-source data-sharing portal for London-oriented datasets. "
      ]
    },
    {
      "cell_type": "code",
      "metadata": {
        "id": "AiLiD4v3Jpgr"
      },
      "source": [
        "# First, make a variable called url_LondonHousePrices, and assign it the following link, enclosed in quotation-marks as a string:\n",
        "# https://data.london.gov.uk/download/uk-house-price-index/70ac0766-8902-4eb5-aab5-01951aaed773/UK%20House%20price%20index.xls\n",
        "\n",
        "url_LondonHousePrices= \"https://data.london.gov.uk/download/uk-house-price-index/70ac0766-8902-4eb5-aab5-01951aaed773/UK%20House%20price%20index.xls\"\n",
        "\n",
        "# The dataset we're interested in contains the Average prices of the houses, and is actually on a particular sheet of the Excel file. \n",
        "# As a result, we need to specify the sheet name in the read_excel() method.\n",
        "# Put this data into a variable called properties.  \n",
        "properties = pd.read_excel(url_LondonHousePrices, sheet_name='Average price', index_col= None)"
      ],
      "execution_count": 5,
      "outputs": []
    },
    {
      "cell_type": "markdown",
      "metadata": {
        "id": "POukEJXgJpgu"
      },
      "source": [
        "### 2. Cleaning, transforming, and visualizing\n",
        "This second stage is arguably the most important part of any Data Science project. The first thing to do is take a proper look at the data. Cleaning forms the majority of this stage, and can be done both before or after Transformation.\n",
        "\n",
        "The end goal of data cleaning is to have tidy data. When data is tidy: \n",
        "\n",
        "1. Each variable has a column.\n",
        "2. Each observation forms a row.\n",
        "\n",
        "Keep the end goal in mind as you move through this process, every step will take you closer. \n",
        "\n",
        "\n",
        "\n",
        "***Hint:*** This part of the data science pipeline should test those skills you acquired in: \n",
        "- Intermediate Python for data science, all modules.\n",
        "- pandas Foundations, all modules. \n",
        "- Manipulating DataFrames with pandas, all modules.\n",
        "- Data Types for Data Science, Module Four.\n",
        "- Python Data Science Toolbox - Part One, all modules"
      ]
    },
    {
      "cell_type": "markdown",
      "metadata": {
        "id": "Te0Q548tnzZa"
      },
      "source": [
        "**2.1. Exploring your data** \n",
        "\n",
        "Think about your pandas functions for checking out a dataframe. "
      ]
    },
    {
      "cell_type": "code",
      "metadata": {
        "id": "Rxirxw_qoAJa",
        "colab": {
          "base_uri": "https://localhost:8080/"
        },
        "outputId": "f63ba05e-6ed1-4787-891a-ff94ee37ca54"
      },
      "source": [
        "#inspect the data\n",
        "print(properties.head())\n",
        "#check the daat statistics\n",
        "print(properties.describe())\n",
        "#check if there is any missing values and how many in each column\n",
        "print(properties.isna().sum())\n",
        "print(properties.isna().any())\n",
        "# there is one column of missing vales of Unnamed \n"
      ],
      "execution_count": 6,
      "outputs": [
        {
          "output_type": "stream",
          "name": "stdout",
          "text": [
            "  Unnamed: 0 City of London Barking & Dagenham       Barnet       Bexley  \\\n",
            "0        NaT      E09000001          E09000002    E09000003    E09000004   \n",
            "1 1995-01-01    91448.98487         50460.2266  93284.51832  64958.09036   \n",
            "2 1995-02-01    82202.77314        51085.77983  93190.16963  64787.92069   \n",
            "3 1995-03-01    79120.70256        51268.96956  92247.52435  64367.49344   \n",
            "4 1995-04-01    77101.20804        53133.50526  90762.87492  64277.66881   \n",
            "\n",
            "         Brent      Bromley       Camden      Croydon       Ealing  ...  \\\n",
            "0    E09000005    E09000006    E09000007    E09000008    E09000009  ...   \n",
            "1  71306.56698  81671.47692  120932.8881  69158.16225  79885.89069  ...   \n",
            "2  72022.26197  81657.55944  119508.8622  68951.09542  80897.06551  ...   \n",
            "3  72015.76274  81449.31143  120282.2131  68712.44341  81379.86288  ...   \n",
            "4  72965.63094  81124.41227   120097.899  68610.04641  82188.90498  ...   \n",
            "\n",
            "    NORTH WEST YORKS & THE HUMBER EAST MIDLANDS WEST MIDLANDS EAST OF ENGLAND  \\\n",
            "0    E12000002          E12000003     E12000004     E12000005       E12000006   \n",
            "1  43958.48001        44803.42878   45544.52227   48527.52339      56701.5961   \n",
            "2  43925.42289        44528.80721   46051.57066   49341.29029     56593.59475   \n",
            "3   44434.8681        45200.46775   45383.82395   49442.17973     56171.18278   \n",
            "4   44267.7796        45614.34341   46124.23045   49455.93299     56567.89582   \n",
            "\n",
            "        LONDON   SOUTH EAST   SOUTH WEST Unnamed: 47      England  \n",
            "0    E12000007    E12000008    E12000009         NaN    E92000001  \n",
            "1  74435.76052  64018.87894   54705.1579         NaN  53202.77128  \n",
            "2  72777.93709  63715.02399  54356.14843         NaN   53096.1549  \n",
            "3  73896.84204  64113.60858  53583.07667         NaN   53201.2843  \n",
            "4  74455.28754  64623.22395  54786.01938         NaN   53590.8548  \n",
            "\n",
            "[5 rows x 49 columns]\n",
            "       Unnamed: 34  Unnamed: 37  Unnamed: 47\n",
            "count          0.0          0.0          0.0\n",
            "mean           NaN          NaN          NaN\n",
            "std            NaN          NaN          NaN\n",
            "min            NaN          NaN          NaN\n",
            "25%            NaN          NaN          NaN\n",
            "50%            NaN          NaN          NaN\n",
            "75%            NaN          NaN          NaN\n",
            "max            NaN          NaN          NaN\n",
            "Unnamed: 0                1\n",
            "City of London            0\n",
            "Barking & Dagenham        0\n",
            "Barnet                    0\n",
            "Bexley                    0\n",
            "Brent                     0\n",
            "Bromley                   0\n",
            "Camden                    0\n",
            "Croydon                   0\n",
            "Ealing                    0\n",
            "Enfield                   0\n",
            "Greenwich                 0\n",
            "Hackney                   0\n",
            "Hammersmith & Fulham      0\n",
            "Haringey                  0\n",
            "Harrow                    0\n",
            "Havering                  0\n",
            "Hillingdon                0\n",
            "Hounslow                  0\n",
            "Islington                 0\n",
            "Kensington & Chelsea      0\n",
            "Kingston upon Thames      0\n",
            "Lambeth                   0\n",
            "Lewisham                  0\n",
            "Merton                    0\n",
            "Newham                    0\n",
            "Redbridge                 0\n",
            "Richmond upon Thames      0\n",
            "Southwark                 0\n",
            "Sutton                    0\n",
            "Tower Hamlets             0\n",
            "Waltham Forest            0\n",
            "Wandsworth                0\n",
            "Westminster               0\n",
            "Unnamed: 34             338\n",
            "Inner London              0\n",
            "Outer London              0\n",
            "Unnamed: 37             338\n",
            "NORTH EAST                0\n",
            "NORTH WEST                0\n",
            "YORKS & THE HUMBER        0\n",
            "EAST MIDLANDS             0\n",
            "WEST MIDLANDS             0\n",
            "EAST OF ENGLAND           0\n",
            "LONDON                    0\n",
            "SOUTH EAST                0\n",
            "SOUTH WEST                0\n",
            "Unnamed: 47             338\n",
            "England                   0\n",
            "dtype: int64\n",
            "Unnamed: 0               True\n",
            "City of London          False\n",
            "Barking & Dagenham      False\n",
            "Barnet                  False\n",
            "Bexley                  False\n",
            "Brent                   False\n",
            "Bromley                 False\n",
            "Camden                  False\n",
            "Croydon                 False\n",
            "Ealing                  False\n",
            "Enfield                 False\n",
            "Greenwich               False\n",
            "Hackney                 False\n",
            "Hammersmith & Fulham    False\n",
            "Haringey                False\n",
            "Harrow                  False\n",
            "Havering                False\n",
            "Hillingdon              False\n",
            "Hounslow                False\n",
            "Islington               False\n",
            "Kensington & Chelsea    False\n",
            "Kingston upon Thames    False\n",
            "Lambeth                 False\n",
            "Lewisham                False\n",
            "Merton                  False\n",
            "Newham                  False\n",
            "Redbridge               False\n",
            "Richmond upon Thames    False\n",
            "Southwark               False\n",
            "Sutton                  False\n",
            "Tower Hamlets           False\n",
            "Waltham Forest          False\n",
            "Wandsworth              False\n",
            "Westminster             False\n",
            "Unnamed: 34              True\n",
            "Inner London            False\n",
            "Outer London            False\n",
            "Unnamed: 37              True\n",
            "NORTH EAST              False\n",
            "NORTH WEST              False\n",
            "YORKS & THE HUMBER      False\n",
            "EAST MIDLANDS           False\n",
            "WEST MIDLANDS           False\n",
            "EAST OF ENGLAND         False\n",
            "LONDON                  False\n",
            "SOUTH EAST              False\n",
            "SOUTH WEST              False\n",
            "Unnamed: 47              True\n",
            "England                 False\n",
            "dtype: bool\n"
          ]
        }
      ]
    },
    {
      "cell_type": "code",
      "source": [
        "# check the variable information\n",
        "print(properties.info())\n",
        "#get the shape of the data set\n",
        "print(properties.shape)\n",
        "#get the index infomration\n",
        "print(properties.index)"
      ],
      "metadata": {
        "colab": {
          "base_uri": "https://localhost:8080/"
        },
        "id": "-mYzojyjH5eG",
        "outputId": "34b5711b-5078-4fe0-cd9e-ee770f561699"
      },
      "execution_count": 7,
      "outputs": [
        {
          "output_type": "stream",
          "name": "stdout",
          "text": [
            "<class 'pandas.core.frame.DataFrame'>\n",
            "RangeIndex: 338 entries, 0 to 337\n",
            "Data columns (total 49 columns):\n",
            " #   Column                Non-Null Count  Dtype         \n",
            "---  ------                --------------  -----         \n",
            " 0   Unnamed: 0            337 non-null    datetime64[ns]\n",
            " 1   City of London        338 non-null    object        \n",
            " 2   Barking & Dagenham    338 non-null    object        \n",
            " 3   Barnet                338 non-null    object        \n",
            " 4   Bexley                338 non-null    object        \n",
            " 5   Brent                 338 non-null    object        \n",
            " 6   Bromley               338 non-null    object        \n",
            " 7   Camden                338 non-null    object        \n",
            " 8   Croydon               338 non-null    object        \n",
            " 9   Ealing                338 non-null    object        \n",
            " 10  Enfield               338 non-null    object        \n",
            " 11  Greenwich             338 non-null    object        \n",
            " 12  Hackney               338 non-null    object        \n",
            " 13  Hammersmith & Fulham  338 non-null    object        \n",
            " 14  Haringey              338 non-null    object        \n",
            " 15  Harrow                338 non-null    object        \n",
            " 16  Havering              338 non-null    object        \n",
            " 17  Hillingdon            338 non-null    object        \n",
            " 18  Hounslow              338 non-null    object        \n",
            " 19  Islington             338 non-null    object        \n",
            " 20  Kensington & Chelsea  338 non-null    object        \n",
            " 21  Kingston upon Thames  338 non-null    object        \n",
            " 22  Lambeth               338 non-null    object        \n",
            " 23  Lewisham              338 non-null    object        \n",
            " 24  Merton                338 non-null    object        \n",
            " 25  Newham                338 non-null    object        \n",
            " 26  Redbridge             338 non-null    object        \n",
            " 27  Richmond upon Thames  338 non-null    object        \n",
            " 28  Southwark             338 non-null    object        \n",
            " 29  Sutton                338 non-null    object        \n",
            " 30  Tower Hamlets         338 non-null    object        \n",
            " 31  Waltham Forest        338 non-null    object        \n",
            " 32  Wandsworth            338 non-null    object        \n",
            " 33  Westminster           338 non-null    object        \n",
            " 34  Unnamed: 34           0 non-null      float64       \n",
            " 35  Inner London          338 non-null    object        \n",
            " 36  Outer London          338 non-null    object        \n",
            " 37  Unnamed: 37           0 non-null      float64       \n",
            " 38  NORTH EAST            338 non-null    object        \n",
            " 39  NORTH WEST            338 non-null    object        \n",
            " 40  YORKS & THE HUMBER    338 non-null    object        \n",
            " 41  EAST MIDLANDS         338 non-null    object        \n",
            " 42  WEST MIDLANDS         338 non-null    object        \n",
            " 43  EAST OF ENGLAND       338 non-null    object        \n",
            " 44  LONDON                338 non-null    object        \n",
            " 45  SOUTH EAST            338 non-null    object        \n",
            " 46  SOUTH WEST            338 non-null    object        \n",
            " 47  Unnamed: 47           0 non-null      float64       \n",
            " 48  England               338 non-null    object        \n",
            "dtypes: datetime64[ns](1), float64(3), object(45)\n",
            "memory usage: 129.5+ KB\n",
            "None\n",
            "(338, 49)\n",
            "RangeIndex(start=0, stop=338, step=1)\n"
          ]
        }
      ]
    },
    {
      "cell_type": "markdown",
      "metadata": {
        "id": "tE9Sqt9-oAta"
      },
      "source": [
        "**2.2. Cleaning the data**\n",
        "\n",
        "You might find you need to transpose your dataframe, check out what its row indexes are, and reset the index. You  also might find you need to assign the values of the first row to your column headings  . (Hint: recall the .columns feature of DataFrames, as well as the iloc[] method).\n",
        "\n",
        "Don't be afraid to use StackOverflow for help  with this."
      ]
    },
    {
      "cell_type": "code",
      "source": [
        "properties_transposed=properties.transpose()"
      ],
      "metadata": {
        "id": "cN4f145cQ6im"
      },
      "execution_count": 106,
      "outputs": []
    },
    {
      "cell_type": "code",
      "source": [
        "properties_transposed.columns=properties_transposed.iloc[0,:]\n",
        "properties_transposed.drop([\"Unnamed: 0\"],inplace=True)"
      ],
      "metadata": {
        "id": "botUjXsjR8s_"
      },
      "execution_count": 107,
      "outputs": []
    },
    {
      "cell_type": "code",
      "source": [
        "properties_transposed.reset_index(inplace=True)"
      ],
      "metadata": {
        "id": "I-2gOeVQMEPT"
      },
      "execution_count": 108,
      "outputs": []
    },
    {
      "cell_type": "code",
      "source": [
        "properties_transposed.head()"
      ],
      "metadata": {
        "colab": {
          "base_uri": "https://localhost:8080/",
          "height": 351
        },
        "id": "CeeqRIJukJmA",
        "outputId": "a3a67d74-22b4-41a7-b37d-8bf4511f1157"
      },
      "execution_count": 109,
      "outputs": [
        {
          "output_type": "execute_result",
          "data": {
            "text/plain": [
              "Unnamed: 0               index        NaT 1995-01-01 00:00:00  \\\n",
              "0               City of London  E09000001         91448.98487   \n",
              "1           Barking & Dagenham  E09000002          50460.2266   \n",
              "2                       Barnet  E09000003         93284.51832   \n",
              "3                       Bexley  E09000004         64958.09036   \n",
              "4                        Brent  E09000005         71306.56698   \n",
              "\n",
              "Unnamed: 0 1995-02-01 00:00:00 1995-03-01 00:00:00 1995-04-01 00:00:00  \\\n",
              "0                  82202.77314         79120.70256         77101.20804   \n",
              "1                  51085.77983         51268.96956         53133.50526   \n",
              "2                  93190.16963         92247.52435         90762.87492   \n",
              "3                  64787.92069         64367.49344         64277.66881   \n",
              "4                  72022.26197         72015.76274         72965.63094   \n",
              "\n",
              "Unnamed: 0 1995-05-01 00:00:00 1995-06-01 00:00:00 1995-07-01 00:00:00  \\\n",
              "0                  84409.14932         94900.51244         110128.0423   \n",
              "1                  53042.24852         53700.34831         52113.12157   \n",
              "2                  90258.00033         90107.23471         91441.24768   \n",
              "3                  63997.13588         64252.32335         63722.70055   \n",
              "4                  73704.04743         74310.48167         74127.03788   \n",
              "\n",
              "Unnamed: 0 1995-08-01 00:00:00  ... 2022-04-01 00:00:00 2022-05-01 00:00:00  \\\n",
              "0                  112329.4376  ...        813979.74214        797892.55047   \n",
              "1                  52232.19868  ...        332604.43094        335021.08059   \n",
              "2                  92361.31512  ...        579950.33189        584662.31887   \n",
              "3                  64432.60005  ...        384327.79155        386009.08336   \n",
              "4                   73547.0411  ...        518862.05779        528460.43896   \n",
              "\n",
              "Unnamed: 0 2022-06-01 00:00:00 2022-07-01 00:00:00 2022-08-01 00:00:00  \\\n",
              "0                 821514.79383        806856.05306        834332.03537   \n",
              "1                 344835.81396         348109.0198        349807.27867   \n",
              "2                 591029.86082        593474.16293         602160.5051   \n",
              "3                 389711.51594        395133.58979        400870.79852   \n",
              "4                 531851.10266        548766.79416        559694.43572   \n",
              "\n",
              "Unnamed: 0 2022-09-01 00:00:00 2022-10-01 00:00:00 2022-11-01 00:00:00  \\\n",
              "0                 830627.92842        885696.33847        954661.97133   \n",
              "1                 348544.55308        353195.14125         357675.7384   \n",
              "2                 604970.15477         598727.6565          589432.211   \n",
              "3                  402778.1912        407103.40353        406588.79277   \n",
              "4                 579715.65953        576500.99942        570808.32592   \n",
              "\n",
              "Unnamed: 0 2022-12-01 00:00:00 2023-01-01 00:00:00  \n",
              "0                 953204.66901        885406.47515  \n",
              "1                 359579.90996        353635.45461  \n",
              "2                 591520.97288        594529.67878  \n",
              "3                 410458.95974        401801.51546  \n",
              "4                 563864.18263        558238.93628  \n",
              "\n",
              "[5 rows x 339 columns]"
            ],
            "text/html": [
              "\n",
              "  <div id=\"df-870272f1-d693-4ca1-a38b-400f700e30e3\">\n",
              "    <div class=\"colab-df-container\">\n",
              "      <div>\n",
              "<style scoped>\n",
              "    .dataframe tbody tr th:only-of-type {\n",
              "        vertical-align: middle;\n",
              "    }\n",
              "\n",
              "    .dataframe tbody tr th {\n",
              "        vertical-align: top;\n",
              "    }\n",
              "\n",
              "    .dataframe thead th {\n",
              "        text-align: right;\n",
              "    }\n",
              "</style>\n",
              "<table border=\"1\" class=\"dataframe\">\n",
              "  <thead>\n",
              "    <tr style=\"text-align: right;\">\n",
              "      <th>Unnamed: 0</th>\n",
              "      <th>index</th>\n",
              "      <th>NaT</th>\n",
              "      <th>1995-01-01 00:00:00</th>\n",
              "      <th>1995-02-01 00:00:00</th>\n",
              "      <th>1995-03-01 00:00:00</th>\n",
              "      <th>1995-04-01 00:00:00</th>\n",
              "      <th>1995-05-01 00:00:00</th>\n",
              "      <th>1995-06-01 00:00:00</th>\n",
              "      <th>1995-07-01 00:00:00</th>\n",
              "      <th>1995-08-01 00:00:00</th>\n",
              "      <th>...</th>\n",
              "      <th>2022-04-01 00:00:00</th>\n",
              "      <th>2022-05-01 00:00:00</th>\n",
              "      <th>2022-06-01 00:00:00</th>\n",
              "      <th>2022-07-01 00:00:00</th>\n",
              "      <th>2022-08-01 00:00:00</th>\n",
              "      <th>2022-09-01 00:00:00</th>\n",
              "      <th>2022-10-01 00:00:00</th>\n",
              "      <th>2022-11-01 00:00:00</th>\n",
              "      <th>2022-12-01 00:00:00</th>\n",
              "      <th>2023-01-01 00:00:00</th>\n",
              "    </tr>\n",
              "  </thead>\n",
              "  <tbody>\n",
              "    <tr>\n",
              "      <th>0</th>\n",
              "      <td>City of London</td>\n",
              "      <td>E09000001</td>\n",
              "      <td>91448.98487</td>\n",
              "      <td>82202.77314</td>\n",
              "      <td>79120.70256</td>\n",
              "      <td>77101.20804</td>\n",
              "      <td>84409.14932</td>\n",
              "      <td>94900.51244</td>\n",
              "      <td>110128.0423</td>\n",
              "      <td>112329.4376</td>\n",
              "      <td>...</td>\n",
              "      <td>813979.74214</td>\n",
              "      <td>797892.55047</td>\n",
              "      <td>821514.79383</td>\n",
              "      <td>806856.05306</td>\n",
              "      <td>834332.03537</td>\n",
              "      <td>830627.92842</td>\n",
              "      <td>885696.33847</td>\n",
              "      <td>954661.97133</td>\n",
              "      <td>953204.66901</td>\n",
              "      <td>885406.47515</td>\n",
              "    </tr>\n",
              "    <tr>\n",
              "      <th>1</th>\n",
              "      <td>Barking &amp; Dagenham</td>\n",
              "      <td>E09000002</td>\n",
              "      <td>50460.2266</td>\n",
              "      <td>51085.77983</td>\n",
              "      <td>51268.96956</td>\n",
              "      <td>53133.50526</td>\n",
              "      <td>53042.24852</td>\n",
              "      <td>53700.34831</td>\n",
              "      <td>52113.12157</td>\n",
              "      <td>52232.19868</td>\n",
              "      <td>...</td>\n",
              "      <td>332604.43094</td>\n",
              "      <td>335021.08059</td>\n",
              "      <td>344835.81396</td>\n",
              "      <td>348109.0198</td>\n",
              "      <td>349807.27867</td>\n",
              "      <td>348544.55308</td>\n",
              "      <td>353195.14125</td>\n",
              "      <td>357675.7384</td>\n",
              "      <td>359579.90996</td>\n",
              "      <td>353635.45461</td>\n",
              "    </tr>\n",
              "    <tr>\n",
              "      <th>2</th>\n",
              "      <td>Barnet</td>\n",
              "      <td>E09000003</td>\n",
              "      <td>93284.51832</td>\n",
              "      <td>93190.16963</td>\n",
              "      <td>92247.52435</td>\n",
              "      <td>90762.87492</td>\n",
              "      <td>90258.00033</td>\n",
              "      <td>90107.23471</td>\n",
              "      <td>91441.24768</td>\n",
              "      <td>92361.31512</td>\n",
              "      <td>...</td>\n",
              "      <td>579950.33189</td>\n",
              "      <td>584662.31887</td>\n",
              "      <td>591029.86082</td>\n",
              "      <td>593474.16293</td>\n",
              "      <td>602160.5051</td>\n",
              "      <td>604970.15477</td>\n",
              "      <td>598727.6565</td>\n",
              "      <td>589432.211</td>\n",
              "      <td>591520.97288</td>\n",
              "      <td>594529.67878</td>\n",
              "    </tr>\n",
              "    <tr>\n",
              "      <th>3</th>\n",
              "      <td>Bexley</td>\n",
              "      <td>E09000004</td>\n",
              "      <td>64958.09036</td>\n",
              "      <td>64787.92069</td>\n",
              "      <td>64367.49344</td>\n",
              "      <td>64277.66881</td>\n",
              "      <td>63997.13588</td>\n",
              "      <td>64252.32335</td>\n",
              "      <td>63722.70055</td>\n",
              "      <td>64432.60005</td>\n",
              "      <td>...</td>\n",
              "      <td>384327.79155</td>\n",
              "      <td>386009.08336</td>\n",
              "      <td>389711.51594</td>\n",
              "      <td>395133.58979</td>\n",
              "      <td>400870.79852</td>\n",
              "      <td>402778.1912</td>\n",
              "      <td>407103.40353</td>\n",
              "      <td>406588.79277</td>\n",
              "      <td>410458.95974</td>\n",
              "      <td>401801.51546</td>\n",
              "    </tr>\n",
              "    <tr>\n",
              "      <th>4</th>\n",
              "      <td>Brent</td>\n",
              "      <td>E09000005</td>\n",
              "      <td>71306.56698</td>\n",
              "      <td>72022.26197</td>\n",
              "      <td>72015.76274</td>\n",
              "      <td>72965.63094</td>\n",
              "      <td>73704.04743</td>\n",
              "      <td>74310.48167</td>\n",
              "      <td>74127.03788</td>\n",
              "      <td>73547.0411</td>\n",
              "      <td>...</td>\n",
              "      <td>518862.05779</td>\n",
              "      <td>528460.43896</td>\n",
              "      <td>531851.10266</td>\n",
              "      <td>548766.79416</td>\n",
              "      <td>559694.43572</td>\n",
              "      <td>579715.65953</td>\n",
              "      <td>576500.99942</td>\n",
              "      <td>570808.32592</td>\n",
              "      <td>563864.18263</td>\n",
              "      <td>558238.93628</td>\n",
              "    </tr>\n",
              "  </tbody>\n",
              "</table>\n",
              "<p>5 rows × 339 columns</p>\n",
              "</div>\n",
              "      <button class=\"colab-df-convert\" onclick=\"convertToInteractive('df-870272f1-d693-4ca1-a38b-400f700e30e3')\"\n",
              "              title=\"Convert this dataframe to an interactive table.\"\n",
              "              style=\"display:none;\">\n",
              "        \n",
              "  <svg xmlns=\"http://www.w3.org/2000/svg\" height=\"24px\"viewBox=\"0 0 24 24\"\n",
              "       width=\"24px\">\n",
              "    <path d=\"M0 0h24v24H0V0z\" fill=\"none\"/>\n",
              "    <path d=\"M18.56 5.44l.94 2.06.94-2.06 2.06-.94-2.06-.94-.94-2.06-.94 2.06-2.06.94zm-11 1L8.5 8.5l.94-2.06 2.06-.94-2.06-.94L8.5 2.5l-.94 2.06-2.06.94zm10 10l.94 2.06.94-2.06 2.06-.94-2.06-.94-.94-2.06-.94 2.06-2.06.94z\"/><path d=\"M17.41 7.96l-1.37-1.37c-.4-.4-.92-.59-1.43-.59-.52 0-1.04.2-1.43.59L10.3 9.45l-7.72 7.72c-.78.78-.78 2.05 0 2.83L4 21.41c.39.39.9.59 1.41.59.51 0 1.02-.2 1.41-.59l7.78-7.78 2.81-2.81c.8-.78.8-2.07 0-2.86zM5.41 20L4 18.59l7.72-7.72 1.47 1.35L5.41 20z\"/>\n",
              "  </svg>\n",
              "      </button>\n",
              "      \n",
              "  <style>\n",
              "    .colab-df-container {\n",
              "      display:flex;\n",
              "      flex-wrap:wrap;\n",
              "      gap: 12px;\n",
              "    }\n",
              "\n",
              "    .colab-df-convert {\n",
              "      background-color: #E8F0FE;\n",
              "      border: none;\n",
              "      border-radius: 50%;\n",
              "      cursor: pointer;\n",
              "      display: none;\n",
              "      fill: #1967D2;\n",
              "      height: 32px;\n",
              "      padding: 0 0 0 0;\n",
              "      width: 32px;\n",
              "    }\n",
              "\n",
              "    .colab-df-convert:hover {\n",
              "      background-color: #E2EBFA;\n",
              "      box-shadow: 0px 1px 2px rgba(60, 64, 67, 0.3), 0px 1px 3px 1px rgba(60, 64, 67, 0.15);\n",
              "      fill: #174EA6;\n",
              "    }\n",
              "\n",
              "    [theme=dark] .colab-df-convert {\n",
              "      background-color: #3B4455;\n",
              "      fill: #D2E3FC;\n",
              "    }\n",
              "\n",
              "    [theme=dark] .colab-df-convert:hover {\n",
              "      background-color: #434B5C;\n",
              "      box-shadow: 0px 1px 3px 1px rgba(0, 0, 0, 0.15);\n",
              "      filter: drop-shadow(0px 1px 2px rgba(0, 0, 0, 0.3));\n",
              "      fill: #FFFFFF;\n",
              "    }\n",
              "  </style>\n",
              "\n",
              "      <script>\n",
              "        const buttonEl =\n",
              "          document.querySelector('#df-870272f1-d693-4ca1-a38b-400f700e30e3 button.colab-df-convert');\n",
              "        buttonEl.style.display =\n",
              "          google.colab.kernel.accessAllowed ? 'block' : 'none';\n",
              "\n",
              "        async function convertToInteractive(key) {\n",
              "          const element = document.querySelector('#df-870272f1-d693-4ca1-a38b-400f700e30e3');\n",
              "          const dataTable =\n",
              "            await google.colab.kernel.invokeFunction('convertToInteractive',\n",
              "                                                     [key], {});\n",
              "          if (!dataTable) return;\n",
              "\n",
              "          const docLinkHtml = 'Like what you see? Visit the ' +\n",
              "            '<a target=\"_blank\" href=https://colab.research.google.com/notebooks/data_table.ipynb>data table notebook</a>'\n",
              "            + ' to learn more about interactive tables.';\n",
              "          element.innerHTML = '';\n",
              "          dataTable['output_type'] = 'display_data';\n",
              "          await google.colab.output.renderOutput(dataTable, element);\n",
              "          const docLink = document.createElement('div');\n",
              "          docLink.innerHTML = docLinkHtml;\n",
              "          element.appendChild(docLink);\n",
              "        }\n",
              "      </script>\n",
              "    </div>\n",
              "  </div>\n",
              "  "
            ]
          },
          "metadata": {},
          "execution_count": 109
        }
      ]
    },
    {
      "cell_type": "markdown",
      "metadata": {
        "id": "o1uLbJAsoIjK"
      },
      "source": [
        "**2.3. Cleaning the data (part 2)**\n",
        "\n",
        "You might we have to **rename** a couple columns. How do you do this? The clue's pretty bold..."
      ]
    },
    {
      "cell_type": "code",
      "metadata": {
        "id": "GKkmn1AnoVZS"
      },
      "source": [
        "properties_transposed.rename(columns={'index':'London_Borough',pd.NaT:\"Area_Code\"},inplace=True)"
      ],
      "execution_count": 110,
      "outputs": []
    },
    {
      "cell_type": "code",
      "source": [
        "properties_transposed.set_index(\"Area_Code\",inplace=True)"
      ],
      "metadata": {
        "id": "YXtt8mG7fsEb"
      },
      "execution_count": 111,
      "outputs": []
    },
    {
      "cell_type": "code",
      "source": [
        "properties_transposed.head()"
      ],
      "metadata": {
        "id": "5dXq4MwDV2_J"
      },
      "execution_count": null,
      "outputs": []
    },
    {
      "cell_type": "markdown",
      "metadata": {
        "id": "jy8BzXHmoWEw"
      },
      "source": [
        "**2.4.Transforming the data**\n",
        "\n",
        "Remember what Wes McKinney said about tidy data? \n",
        "\n",
        "You might need to **melt** your DataFrame here. "
      ]
    },
    {
      "cell_type": "code",
      "metadata": {
        "id": "S2wM0qLuo2Zt"
      },
      "source": [
        "data=properties_transposed.melt(id_vars=[\"London_Borough\"],var_name=\"Year_Month\",value_name=\"average_price\")"
      ],
      "execution_count": 153,
      "outputs": []
    },
    {
      "cell_type": "markdown",
      "metadata": {
        "id": "7kIsgAo7o3mf"
      },
      "source": [
        "Remember to make sure your column data types are all correct. Average prices, for example, should be floating point numbers... "
      ]
    },
    {
      "cell_type": "code",
      "metadata": {
        "id": "ZcR4IHbcpOaq",
        "colab": {
          "base_uri": "https://localhost:8080/",
          "height": 206
        },
        "outputId": "d981f88e-3f39-41fe-e477-3a47b3b717ca"
      },
      "source": [
        "data.head()"
      ],
      "execution_count": 154,
      "outputs": [
        {
          "output_type": "execute_result",
          "data": {
            "text/plain": [
              "       London_Borough Year_Month average_price\n",
              "0      City of London 1995-01-01   91448.98487\n",
              "1  Barking & Dagenham 1995-01-01    50460.2266\n",
              "2              Barnet 1995-01-01   93284.51832\n",
              "3              Bexley 1995-01-01   64958.09036\n",
              "4               Brent 1995-01-01   71306.56698"
            ],
            "text/html": [
              "\n",
              "  <div id=\"df-43133314-6762-4c66-bbef-bba7389366ce\">\n",
              "    <div class=\"colab-df-container\">\n",
              "      <div>\n",
              "<style scoped>\n",
              "    .dataframe tbody tr th:only-of-type {\n",
              "        vertical-align: middle;\n",
              "    }\n",
              "\n",
              "    .dataframe tbody tr th {\n",
              "        vertical-align: top;\n",
              "    }\n",
              "\n",
              "    .dataframe thead th {\n",
              "        text-align: right;\n",
              "    }\n",
              "</style>\n",
              "<table border=\"1\" class=\"dataframe\">\n",
              "  <thead>\n",
              "    <tr style=\"text-align: right;\">\n",
              "      <th></th>\n",
              "      <th>London_Borough</th>\n",
              "      <th>Year_Month</th>\n",
              "      <th>average_price</th>\n",
              "    </tr>\n",
              "  </thead>\n",
              "  <tbody>\n",
              "    <tr>\n",
              "      <th>0</th>\n",
              "      <td>City of London</td>\n",
              "      <td>1995-01-01</td>\n",
              "      <td>91448.98487</td>\n",
              "    </tr>\n",
              "    <tr>\n",
              "      <th>1</th>\n",
              "      <td>Barking &amp; Dagenham</td>\n",
              "      <td>1995-01-01</td>\n",
              "      <td>50460.2266</td>\n",
              "    </tr>\n",
              "    <tr>\n",
              "      <th>2</th>\n",
              "      <td>Barnet</td>\n",
              "      <td>1995-01-01</td>\n",
              "      <td>93284.51832</td>\n",
              "    </tr>\n",
              "    <tr>\n",
              "      <th>3</th>\n",
              "      <td>Bexley</td>\n",
              "      <td>1995-01-01</td>\n",
              "      <td>64958.09036</td>\n",
              "    </tr>\n",
              "    <tr>\n",
              "      <th>4</th>\n",
              "      <td>Brent</td>\n",
              "      <td>1995-01-01</td>\n",
              "      <td>71306.56698</td>\n",
              "    </tr>\n",
              "  </tbody>\n",
              "</table>\n",
              "</div>\n",
              "      <button class=\"colab-df-convert\" onclick=\"convertToInteractive('df-43133314-6762-4c66-bbef-bba7389366ce')\"\n",
              "              title=\"Convert this dataframe to an interactive table.\"\n",
              "              style=\"display:none;\">\n",
              "        \n",
              "  <svg xmlns=\"http://www.w3.org/2000/svg\" height=\"24px\"viewBox=\"0 0 24 24\"\n",
              "       width=\"24px\">\n",
              "    <path d=\"M0 0h24v24H0V0z\" fill=\"none\"/>\n",
              "    <path d=\"M18.56 5.44l.94 2.06.94-2.06 2.06-.94-2.06-.94-.94-2.06-.94 2.06-2.06.94zm-11 1L8.5 8.5l.94-2.06 2.06-.94-2.06-.94L8.5 2.5l-.94 2.06-2.06.94zm10 10l.94 2.06.94-2.06 2.06-.94-2.06-.94-.94-2.06-.94 2.06-2.06.94z\"/><path d=\"M17.41 7.96l-1.37-1.37c-.4-.4-.92-.59-1.43-.59-.52 0-1.04.2-1.43.59L10.3 9.45l-7.72 7.72c-.78.78-.78 2.05 0 2.83L4 21.41c.39.39.9.59 1.41.59.51 0 1.02-.2 1.41-.59l7.78-7.78 2.81-2.81c.8-.78.8-2.07 0-2.86zM5.41 20L4 18.59l7.72-7.72 1.47 1.35L5.41 20z\"/>\n",
              "  </svg>\n",
              "      </button>\n",
              "      \n",
              "  <style>\n",
              "    .colab-df-container {\n",
              "      display:flex;\n",
              "      flex-wrap:wrap;\n",
              "      gap: 12px;\n",
              "    }\n",
              "\n",
              "    .colab-df-convert {\n",
              "      background-color: #E8F0FE;\n",
              "      border: none;\n",
              "      border-radius: 50%;\n",
              "      cursor: pointer;\n",
              "      display: none;\n",
              "      fill: #1967D2;\n",
              "      height: 32px;\n",
              "      padding: 0 0 0 0;\n",
              "      width: 32px;\n",
              "    }\n",
              "\n",
              "    .colab-df-convert:hover {\n",
              "      background-color: #E2EBFA;\n",
              "      box-shadow: 0px 1px 2px rgba(60, 64, 67, 0.3), 0px 1px 3px 1px rgba(60, 64, 67, 0.15);\n",
              "      fill: #174EA6;\n",
              "    }\n",
              "\n",
              "    [theme=dark] .colab-df-convert {\n",
              "      background-color: #3B4455;\n",
              "      fill: #D2E3FC;\n",
              "    }\n",
              "\n",
              "    [theme=dark] .colab-df-convert:hover {\n",
              "      background-color: #434B5C;\n",
              "      box-shadow: 0px 1px 3px 1px rgba(0, 0, 0, 0.15);\n",
              "      filter: drop-shadow(0px 1px 2px rgba(0, 0, 0, 0.3));\n",
              "      fill: #FFFFFF;\n",
              "    }\n",
              "  </style>\n",
              "\n",
              "      <script>\n",
              "        const buttonEl =\n",
              "          document.querySelector('#df-43133314-6762-4c66-bbef-bba7389366ce button.colab-df-convert');\n",
              "        buttonEl.style.display =\n",
              "          google.colab.kernel.accessAllowed ? 'block' : 'none';\n",
              "\n",
              "        async function convertToInteractive(key) {\n",
              "          const element = document.querySelector('#df-43133314-6762-4c66-bbef-bba7389366ce');\n",
              "          const dataTable =\n",
              "            await google.colab.kernel.invokeFunction('convertToInteractive',\n",
              "                                                     [key], {});\n",
              "          if (!dataTable) return;\n",
              "\n",
              "          const docLinkHtml = 'Like what you see? Visit the ' +\n",
              "            '<a target=\"_blank\" href=https://colab.research.google.com/notebooks/data_table.ipynb>data table notebook</a>'\n",
              "            + ' to learn more about interactive tables.';\n",
              "          element.innerHTML = '';\n",
              "          dataTable['output_type'] = 'display_data';\n",
              "          await google.colab.output.renderOutput(dataTable, element);\n",
              "          const docLink = document.createElement('div');\n",
              "          docLink.innerHTML = docLinkHtml;\n",
              "          element.appendChild(docLink);\n",
              "        }\n",
              "      </script>\n",
              "    </div>\n",
              "  </div>\n",
              "  "
            ]
          },
          "metadata": {},
          "execution_count": 154
        }
      ]
    },
    {
      "cell_type": "markdown",
      "metadata": {
        "id": "knLUXHLypOtw"
      },
      "source": [
        "**2.5. Cleaning the data (part 3)**\n",
        "\n",
        "Do we have an equal number of observations in the ID, Average Price, Month, and London Borough columns? Remember that there are only 32 London Boroughs. How many entries do you have in that column? \n",
        "\n",
        "Check out the contents of the London Borough column, and if you find null values, get rid of them however you see fit. "
      ]
    },
    {
      "cell_type": "code",
      "metadata": {
        "id": "BnvTW5a3p0fC",
        "colab": {
          "base_uri": "https://localhost:8080/"
        },
        "outputId": "0b5b106a-ff26-4d53-d810-68bd67a97575"
      },
      "source": [
        "data[\"average_price\"]=pd.to_numeric(data[\"average_price\"])\n",
        "data.dtypes"
      ],
      "execution_count": 155,
      "outputs": [
        {
          "output_type": "execute_result",
          "data": {
            "text/plain": [
              "London_Borough            object\n",
              "Year_Month        datetime64[ns]\n",
              "average_price            float64\n",
              "dtype: object"
            ]
          },
          "metadata": {},
          "execution_count": 155
        }
      ]
    },
    {
      "cell_type": "code",
      "source": [
        "data.count()"
      ],
      "metadata": {
        "colab": {
          "base_uri": "https://localhost:8080/"
        },
        "id": "kV_wXIpE5k36",
        "outputId": "b97ea132-7599-4625-e8e6-a73df7c9d645"
      },
      "execution_count": 156,
      "outputs": [
        {
          "output_type": "execute_result",
          "data": {
            "text/plain": [
              "London_Borough    16176\n",
              "Year_Month        16176\n",
              "average_price     15165\n",
              "dtype: int64"
            ]
          },
          "metadata": {},
          "execution_count": 156
        }
      ]
    },
    {
      "cell_type": "code",
      "source": [
        "data.isna().sum()\n",
        "data.dropna(inplace=True)"
      ],
      "metadata": {
        "id": "Xy-VtOvz59L4"
      },
      "execution_count": 157,
      "outputs": []
    },
    {
      "cell_type": "markdown",
      "metadata": {
        "id": "PGEx6mJsp6dG"
      },
      "source": [
        "**2.6. Visualizing the data**\n",
        "\n",
        "To visualize the data, why not subset on a particular London Borough? Maybe do a line plot of Month against Average Price?"
      ]
    },
    {
      "cell_type": "code",
      "source": [
        "nonBoroughs = ['Inner London', 'Outer London', \n",
        "               'NORTH EAST', 'NORTH WEST', 'YORKS & THE HUMBER', \n",
        "               'EAST MIDLANDS', 'WEST MIDLANDS',\n",
        "              'EAST OF ENGLAND', 'LONDON', 'SOUTH EAST', \n",
        "              'SOUTH WEST', 'England']\n",
        "data=data[-data[\"London_Borough\"].isin(nonBoroughs)]"
      ],
      "metadata": {
        "id": "rLTO1ImE_ClD"
      },
      "execution_count": 158,
      "outputs": []
    },
    {
      "cell_type": "code",
      "metadata": {
        "id": "nAg5pT9cqHAR",
        "colab": {
          "base_uri": "https://localhost:8080/"
        },
        "outputId": "408bad79-64c9-4b83-d452-4bd9c4ce2836"
      },
      "source": [
        "data[\"London_Borough\"].unique()"
      ],
      "execution_count": 160,
      "outputs": [
        {
          "output_type": "execute_result",
          "data": {
            "text/plain": [
              "array(['City of London', 'Barking & Dagenham', 'Barnet', 'Bexley',\n",
              "       'Brent', 'Bromley', 'Camden', 'Croydon', 'Ealing', 'Enfield',\n",
              "       'Greenwich', 'Hackney', 'Hammersmith & Fulham', 'Haringey',\n",
              "       'Harrow', 'Havering', 'Hillingdon', 'Hounslow', 'Islington',\n",
              "       'Kensington & Chelsea', 'Kingston upon Thames', 'Lambeth',\n",
              "       'Lewisham', 'Merton', 'Newham', 'Redbridge',\n",
              "       'Richmond upon Thames', 'Southwark', 'Sutton', 'Tower Hamlets',\n",
              "       'Waltham Forest', 'Wandsworth', 'Westminster'], dtype=object)"
            ]
          },
          "metadata": {},
          "execution_count": 160
        }
      ]
    },
    {
      "cell_type": "code",
      "source": [
        "data.plot(kind=\"line\",x=\"Year_Month\",y=\"average_price\")"
      ],
      "metadata": {
        "colab": {
          "base_uri": "https://localhost:8080/",
          "height": 455
        },
        "id": "RVfE8rO66zCd",
        "outputId": "70098de0-2be6-44ac-a682-12ed09b4a9ef"
      },
      "execution_count": 161,
      "outputs": [
        {
          "output_type": "execute_result",
          "data": {
            "text/plain": [
              "<Axes: xlabel='Year_Month'>"
            ]
          },
          "metadata": {},
          "execution_count": 161
        },
        {
          "output_type": "display_data",
          "data": {
            "text/plain": [
              "<Figure size 640x480 with 1 Axes>"
            ],
            "image/png": "[encoded data removed]"
          },
          "metadata": {}
        }
      ]
    },
    {
      "cell_type": "markdown",
      "metadata": {
        "id": "aWTPqSJeqHnC"
      },
      "source": [
        "To limit the number of data points you have, you might want to extract the year from every month value your *Month* column. \n",
        "\n",
        "To this end, you *could* apply a ***lambda function***. Your logic could work as follows:\n",
        "1. look through the `Month` column\n",
        "2. extract the year from each individual value in that column \n",
        "3. store that corresponding year as separate column. \n",
        "\n",
        "Whether you go ahead with this is up to you. Just so long as you answer our initial brief: which boroughs of London have seen the greatest house price increase, on average, over the past two decades? "
      ]
    },
    {
      "cell_type": "code",
      "metadata": {
        "id": "e0DF92cyqnu8"
      },
      "source": [
        "data[\"year\"]=data[\"Year_Month\"].apply(lambda x:x.year )"
      ],
      "execution_count": 162,
      "outputs": []
    },
    {
      "cell_type": "code",
      "source": [
        "data.groupby([\"London_Borough\",\"year\"]).mean().plot()"
      ],
      "metadata": {
        "colab": {
          "base_uri": "https://localhost:8080/",
          "height": 483
        },
        "id": "rshI4kVe99ld",
        "outputId": "25af9334-698e-475f-cc34-79a4dad95dbf"
      },
      "execution_count": 165,
      "outputs": [
        {
          "output_type": "execute_result",
          "data": {
            "text/plain": [
              "<Axes: xlabel='London_Borough,year'>"
            ]
          },
          "metadata": {},
          "execution_count": 165
        },
        {
          "output_type": "display_data",
          "data": {
            "text/plain": [
              "<Figure size 640x480 with 1 Axes>"
            ],
            "image/png": "[encoded data removed]"
          },
          "metadata": {}
        }
      ]
    },
    {
      "cell_type": "markdown",
      "metadata": {
        "id": "2knuTxAEqoJ4"
      },
      "source": [
        "**3. Modeling**\n",
        "\n",
        "Consider creating a function that will calculate a ratio of house prices, comparing the price of a house in 2018 to the price in 1998.\n",
        "\n",
        "Consider calling this function create_price_ratio.\n",
        "\n",
        "You'd want this function to:\n",
        "1. Take a filter of dfg, specifically where this filter constrains the London_Borough, as an argument. For example, one admissible argument should be: dfg[dfg['London_Borough']=='Camden'].\n",
        "2. Get the Average Price for that Borough, for the years 1998 and 2018.\n",
        "4. Calculate the ratio of the Average Price for 1998 divided by the Average Price for 2018.\n",
        "5. Return that ratio.\n",
        "\n",
        "Once you've written this function, you ultimately want to use it to iterate through all the unique London_Boroughs and work out the ratio capturing the difference of house prices between 1998 and 2018.\n",
        "\n",
        "Bear in mind: you don't have to write a function like this if you don't want to. If you can solve the brief otherwise, then great! \n",
        "\n",
        "***Hint***: This section should test the skills you acquired in:\n",
        "- Python Data Science Toolbox - Part One, all modules"
      ]
    },
    {
      "cell_type": "code",
      "metadata": {
        "id": "cKTyr437UgDa"
      },
      "source": [
        "def create_price_ratio(Borough_name):\n",
        "     df=data[data['London_Borough']==Borough_name]\n",
        "     average_1998=df[df[\"year\"]==1998][\"average_price\"].mean()\n",
        "     average_2018=df[df[\"year\"]==2018][\"average_price\"].mean()\n",
        "     ratio=average_1998/average_2018\n",
        "     return ratio"
      ],
      "execution_count": 168,
      "outputs": []
    },
    {
      "cell_type": "code",
      "source": [
        "final={}\n",
        "for i in data['London_Borough'].unique():\n",
        "                    print(i+\"_ratio\"+\": \"+str(create_price_ratio(i)))\n",
        "                    final[i]=create_price_ratio(i)"
      ],
      "metadata": {
        "id": "fSV9YUlyIf4T"
      },
      "execution_count": null,
      "outputs": []
    },
    {
      "cell_type": "code",
      "source": [
        "final_pd=pd.DataFrame.from_dict(final,orient=\"index\")"
      ],
      "metadata": {
        "id": "MnEZosi_LDqR"
      },
      "execution_count": 196,
      "outputs": []
    },
    {
      "cell_type": "code",
      "source": [
        "final_pd.head()\n",
        "final_pd.rename(columns={0:\"2018\"},inplace=True)"
      ],
      "metadata": {
        "id": "Idx1sF9ILoNG"
      },
      "execution_count": 197,
      "outputs": []
    },
    {
      "cell_type": "code",
      "source": [
        "ax=final_pd.sort_values(\"2018\",ascending=False).head(15).plot(kind=\"bar\")\n",
        "ax.set_xticklabels(final_pd.sort_values(\"2018\",ascending=False).head(15).index)"
      ],
      "metadata": {
        "colab": {
          "base_uri": "https://localhost:8080/",
          "height": 859
        },
        "id": "1KisJfy6OJMf",
        "outputId": "1bd53868-7628-40ce-a14e-9b3223ba815b"
      },
      "execution_count": 206,
      "outputs": [
        {
          "output_type": "execute_result",
          "data": {
            "text/plain": [
              "[Text(0, 0, 'Hounslow'),\n",
              " Text(1, 0, 'Richmond upon Thames'),\n",
              " Text(2, 0, 'Harrow'),\n",
              " Text(3, 0, 'Bromley'),\n",
              " Text(4, 0, 'Sutton'),\n",
              " Text(5, 0, 'Hammersmith & Fulham'),\n",
              " Text(6, 0, 'Hillingdon'),\n",
              " Text(7, 0, 'Croydon'),\n",
              " Text(8, 0, 'Bexley'),\n",
              " Text(9, 0, 'Enfield'),\n",
              " Text(10, 0, 'Kingston upon Thames'),\n",
              " Text(11, 0, 'Ealing'),\n",
              " Text(12, 0, 'Havering'),\n",
              " Text(13, 0, 'Barnet'),\n",
              " Text(14, 0, 'Redbridge')]"
            ]
          },
          "metadata": {},
          "execution_count": 206
        },
        {
          "output_type": "display_data",
          "data": {
            "text/plain": [
              "<Figure size 640x480 with 1 Axes>"
            ],
            "image/png": "[encoded data removed]"
          },
          "metadata": {}
        }
      ]
    },
    {
      "cell_type": "markdown",
      "metadata": {
        "id": "NzYUI7FxJpgv"
      },
      "source": [
        "### 4. Conclusion\n",
        "What can you conclude? Type out your conclusion below. \n",
        "\n",
        "Look back at your notebook. Think about how you might summarize what you have done, and prepare a quick presentation on it to your mentor at your next meeting. \n",
        "\n",
        "We hope you enjoyed this practical project. It should have consolidated your data hygiene and pandas skills by looking at a real-world problem involving just the kind of dataset you might encounter as a budding data scientist. Congratulations, and looking forward to seeing you at the next step in the course! "
      ]
    },
    {
      "cell_type": "markdown",
      "source": [
        "# The borough of London that have seen the greatest house price increase, on average, over the past two decades is 'Hounslow'\n"
      ],
      "metadata": {
        "id": "VGMVmQp_Pmp7"
      }
    }
  ]
}